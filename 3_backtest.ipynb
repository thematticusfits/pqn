{
 "cells": [
  {
   "cell_type": "code",
   "execution_count": 10,
   "metadata": {},
   "outputs": [],
   "source": [
    "%matplotlib inline\n",
    "import bt\n",
    "import matplotlib.pyplot as plt"
   ]
  },
  {
   "cell_type": "code",
   "execution_count": 11,
   "metadata": {},
   "outputs": [],
   "source": [
    "data = bt.get(\"tlt\", start=\"2010-01-01\", end=\"2022-06-30\")"
   ]
  },
  {
   "cell_type": "code",
   "execution_count": 12,
   "metadata": {},
   "outputs": [],
   "source": [
    "def build_strategy(weights):\n",
    "    return bt.Strategy(\n",
    "        'wd', \n",
    "        [bt.algos.SelectAll(), \n",
    "         bt.algos.WeighTarget(weights), \n",
    "         bt.algos.Rebalance()]\n",
    "    )"
   ]
  },
  {
   "cell_type": "code",
   "execution_count": 13,
   "metadata": {},
   "outputs": [],
   "source": [
    "def build_backtest(strategy, df, initial_capital, commission_model):\n",
    "    return bt.Backtest(\n",
    "        strategy,\n",
    "        df,\n",
    "        initial_capital=initial_capital,\n",
    "        commission_model=commission_model,\n",
    "        \n",
    "    )"
   ]
  },
  {
   "cell_type": "code",
   "execution_count": 14,
   "metadata": {},
   "outputs": [],
   "source": [
    "def commission_model(p,q):\n",
    "    val = abs(p * q)\n",
    "    if val > 2000:\n",
    "        return 8.6\n",
    "    if val > 1000:\n",
    "        return 4.3\n",
    "    if val > 100:\n",
    "        return 1.5\n",
    "    return 1.0"
   ]
  },
  {
   "cell_type": "code",
   "execution_count": null,
   "metadata": {},
   "outputs": [],
   "source": []
  }
 ],
 "metadata": {
  "kernelspec": {
   "display_name": "Python 3.9.15 ('my_quant_lab')",
   "language": "python",
   "name": "python3"
  },
  "language_info": {
   "codemirror_mode": {
    "name": "ipython",
    "version": 3
   },
   "file_extension": ".py",
   "mimetype": "text/x-python",
   "name": "python",
   "nbconvert_exporter": "python",
   "pygments_lexer": "ipython3",
   "version": "3.9.15"
  },
  "orig_nbformat": 4,
  "vscode": {
   "interpreter": {
    "hash": "75ffadb517bd33c16560947700ae2c0af662c81920586be2f30749a2f15c5829"
   }
  }
 },
 "nbformat": 4,
 "nbformat_minor": 2
}
